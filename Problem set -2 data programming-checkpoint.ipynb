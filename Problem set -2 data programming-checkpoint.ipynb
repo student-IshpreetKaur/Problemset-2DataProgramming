{
 "cells": [
  {
   "cell_type": "markdown",
   "id": "f8f4e9c3",
   "metadata": {},
   "source": [
    "# Question 1\n",
    "Consider the following Python module:\n",
    "a = 0\n",
    "def b():\n",
    " global a\n",
    " a = c(a)\n",
    "def c(a):\n",
    " return a + 2\n",
    "After importing the module into the interpreter, you execute:\n",
    ">>> b()\n",
    ">>> b()\n",
    ">>> b()\n",
    ">>> a\n",
    "?\n",
    "What value is displayed when the last expression (a) is evaluated? Explain your\n",
    "answer by indicating what happens in every executed statement."
   ]
  },
  {
   "cell_type": "code",
   "execution_count": 1,
   "id": "338b233d",
   "metadata": {},
   "outputs": [
    {
     "name": "stdout",
     "output_type": "stream",
     "text": [
      "0\n",
      "2\n",
      "4\n",
      "6\n"
     ]
    }
   ],
   "source": [
    "a = 0\n",
    "def b():\n",
    " global a\n",
    " a = c(a)\n",
    "def c(a):\n",
    " return a + 2\n",
    "print(a)   #each time 2 is added\n",
    "b()\n",
    "print(a)\n",
    "b()\n",
    "print(a)\n",
    "b()\n",
    "print(a)   # a is finally 6"
   ]
  },
  {
   "cell_type": "markdown",
   "id": "fea68268",
   "metadata": {},
   "source": [
    "# Question 2\n",
    "Function fileLength(), given to you, takes the name of a file as input and returns\n",
    "the length of the file:\n",
    ">>> fileLength('midterm.py')\n",
    "284\n",
    ">>> fileLength('idterm.py')\n",
    "Traceback (most recent call last):\n",
    "File \"<pyshell#34>\", line 1, in <module>\n",
    " fileLength('idterm.py')\n",
    "File \"/Users/me/midterm.py\", line 3, in fileLength\n",
    " infile = open(filename)\n",
    "FileNotFoundError: [Errno 2] No such file or directory:\n",
    "'idterm.py'\n",
    "As shown above, if the file cannot be found by the interpreter or if it cannot be read\n",
    "as a text file, an exception will be raised. Modify function fileLength() so that a\n",
    "friendly message is printed instead:\n",
    ">>> fileLength('midterm.py')\n",
    "358\n",
    ">>> fileLength('idterm.py')\n",
    "File idterm.py not found"
   ]
  },
  {
   "cell_type": "code",
   "execution_count": 2,
   "id": "49e9ccfb",
   "metadata": {},
   "outputs": [
    {
     "name": "stdout",
     "output_type": "stream",
     "text": [
      "File 358 not found.\n",
      "File idterm.py not found.\n"
     ]
    }
   ],
   "source": [
    "import os\n",
    "def file_length(file_name):\n",
    "  try:\n",
    "   lenght = os.path.getsize(file_name)\n",
    "   return lenght\n",
    "  except FileNotFoundError:\n",
    "   return \"File \" + file_name + \" not found.\"\n",
    "  file.close()\n",
    "\n",
    "print(file_length(\"358\"))\n",
    "print(file_length(\"idterm.py\"))"
   ]
  },
  {
   "cell_type": "markdown",
   "id": "648c9438",
   "metadata": {},
   "source": [
    "# Question 3\n",
    "Write a class named Marsupial that can be used as shown below:\n",
    ">>> m = Marsupial()\n",
    ">>> m.put_in_pouch('doll')\n",
    ">>> m.put_in_pouch('firetruck')\n",
    ">>> m.put_in_pouch('kitten')\n",
    ">>> m.pouch_contents()\n",
    "['doll', 'firetruck', 'kitten']Now write a class named Kangaroo as a subclass of Marsupial that inherits all the\n",
    "attributes of Marsupial and also:\n",
    "a. extends the Marsupial __init__ constructor to take, as input, the\n",
    "coordinates x and y of the Kangaroo object,\n",
    "b. supports method jump that takes number values dx and dy as input and\n",
    "moves the kangaroo by dx units along the x-axis and by dy units along the yaxis, and\n",
    "c. overloads the __str__ operator so it behaves as shown below.\n",
    ">>> k = Kangaroo(0,0)\n",
    ">>> print(k)\n",
    "I am a Kangaroo located at coordinates (0,0)\n",
    ">>> k.put_in_pouch('doll')\n",
    ">>> k.put_in_pouch('firetruck')\n",
    ">>> k.put_in_pouch('kitten')\n",
    ">>> k.pouch_contents()\n",
    "['doll', 'firetruck', 'kitten']\n",
    ">>> k.jump(1,0)\n",
    ">>> k.jump(1,0)\n",
    ">>> k.jump(1,0)\n",
    ">>> print(k)\n",
    "I am a Kangaroo located at coordinates (3,0)"
   ]
  },
  {
   "cell_type": "code",
   "execution_count": 3,
   "id": "82e0bf68",
   "metadata": {},
   "outputs": [
    {
     "name": "stdout",
     "output_type": "stream",
     "text": [
      "<__main__.Kangaroo object at 0x0000026D42C67AF0>\n",
      "<__main__.Kangaroo object at 0x0000026D42C67AF0>\n"
     ]
    }
   ],
   "source": [
    "class Marsupial(object):\n",
    " def __init__(self):\n",
    "  self.lst = []\n",
    " def put_in_pouch(self,item):\n",
    "   self.lst.append(item)\n",
    " def pouch_contents(self):\n",
    "    return self.lst\n",
    "\n",
    "class Kangaroo(Marsupial):\n",
    " def __init__(self,x,y):\n",
    "  Marsupial.__init__(self)\n",
    "  self.x = x\n",
    "  self.y = y\n",
    " def jump (self,dx,dy):\n",
    "   self.x += dx\n",
    "   self.y += dy\n",
    "def __str__(self):\n",
    "    return \"I am a Kangaroo located at coordinates ({},{})\".format(self.x,self.y)\n",
    "\n",
    "m = Marsupial()\n",
    "m.put_in_pouch(\"doll\")\n",
    "m.put_in_pouch(\"firetruck\")\n",
    "m.put_in_pouch(\"kitten\")\n",
    "m.pouch_contents()\n",
    "\n",
    "k= Kangaroo(0,0)\n",
    "print(k)  #I am a Kangaroo located at coordinates (0,0)\n",
    "k.put_in_pouch(\"doll\")\n",
    "k.put_in_pouch(\"firetruck\")\n",
    "k.put_in_pouch(\"kitten\")\n",
    "k.pouch_contents()\n",
    "k.jump(1,0)\n",
    "k.jump(1,0)\n",
    "k.jump(1,0)\n",
    "print(k)"
   ]
  },
  {
   "cell_type": "markdown",
   "id": "bd78c220",
   "metadata": {},
   "source": [
    "# Question 4\n",
    "Write function collatz() that takes a positive integer x as input and prints the\n",
    "Collatz sequence starting at x. A Collatz sequence is obtained by repeatedly applying\n",
    "this rule to the previous number x in the sequence:\n",
    "x = {\n",
    "𝑥/2 𝑖𝑓 𝑥 𝑖𝑠 𝑒𝑣𝑒𝑛\n",
    "3𝑥 + 1 𝑖𝑓 𝑥 𝑖𝑠 𝑜𝑑𝑑\n",
    "Your function should stop when the sequence gets to number 1. Your\n",
    "implementation must be recursive, without any loops.\n",
    ">>> collatz(1)\n",
    "1\n",
    ">>> collatz(10)\n",
    "10\n",
    "5\n",
    "16\n",
    "8\n",
    "4\n",
    "2\n",
    "1"
   ]
  },
  {
   "cell_type": "code",
   "execution_count": 4,
   "id": "2dd12d9b",
   "metadata": {},
   "outputs": [
    {
     "name": "stdout",
     "output_type": "stream",
     "text": [
      "Enter Number: 3\n",
      "3\n",
      "10\n",
      "5.0\n",
      "16.0\n",
      "8.0\n",
      "4.0\n",
      "2.0\n",
      "1.0\n",
      "The number of steps taken to reach 1 was 7.\n"
     ]
    },
    {
     "data": {
      "text/plain": [
       "(1.0, 8)"
      ]
     },
     "execution_count": 4,
     "metadata": {},
     "output_type": "execute_result"
    }
   ],
   "source": [
    "from time import sleep\n",
    "def collatz(number, steps):\n",
    "    print(number)\n",
    "    steps +=1\n",
    "    sleep(0.5)\n",
    "    if number == 1:\n",
    "        print(f\"The number of steps taken to reach 1 was {steps - 1}.\")\n",
    "        return number,steps\n",
    "    if number % 2 == 0:\n",
    "        return collatz((number/2),steps)\n",
    "    if number % 2 == 1:\n",
    "        return collatz(((number*3)+1),steps)\n",
    "    else:\n",
    "        print(\"Something went wrong in collatz.\")\n",
    "        return\n",
    "number = input(\"Enter Number: \")\n",
    "try:\n",
    "    number = int(number)\n",
    "except:\n",
    "    print(\"Enter a NUMBER : \")\n",
    "steps = 0\n",
    "collatz(number,steps)\n"
   ]
  },
  {
   "cell_type": "markdown",
   "id": "376f2576",
   "metadata": {},
   "source": [
    "# Question 5\n",
    "Write a recursive method binary() that takes a non-negative\n",
    "integer n and prints the binary representation of integer n.\n",
    ">>> binary(0)\n",
    "0\n",
    ">>> binary(1)\n",
    "1\n",
    ">>> binary(3)\n",
    "11\n",
    ">>> binary(9)\n",
    "1001"
   ]
  },
  {
   "cell_type": "code",
   "execution_count": 16,
   "id": "c5dabc46",
   "metadata": {},
   "outputs": [
    {
     "data": {
      "text/plain": [
       "'01001'"
      ]
     },
     "execution_count": 16,
     "metadata": {},
     "output_type": "execute_result"
    }
   ],
   "source": [
    "def binary(n):\n",
    " if n==0:\n",
    "  return \"0\"\n",
    " else:\n",
    "  return binary(n//2)+str(n%2)\n",
    "binary(0)\n",
    "binary(1)\n",
    "binary(3)\n",
    "binary(9)"
   ]
  },
  {
   "cell_type": "markdown",
   "id": "fa02f458",
   "metadata": {},
   "source": [
    "# Question 6\n",
    "Implement a class named HeadingParser that can be used to parse an HTML\n",
    "document, and retrieve and print all the headings in the document. You should\n",
    "implement your class as a subclass of HTMLParser, defined in Standard Library\n",
    "module html.parser. When fed a string containing HTML code, your class should\n",
    "print the headings, one per line and in the order in which they appear in the\n",
    "document. Each heading should be indented as follows: an h1 heading should have indentation 0, and h2 heading should have indentation 1, etc. Test your\n",
    "implementation using w3c.html.\n",
    ">>> infile = open('w3c.html')\n",
    ">>> content = infile.read()\n",
    ">>> infile.close()\n",
    ">>> hp = HeadingParser()\n",
    ">>> hp.feed(content)\n",
    "W3C Mission\n",
    "Principles\n"
   ]
  },
  {
   "cell_type": "markdown",
   "id": "0eec5b0c",
   "metadata": {},
   "source": [
    "import re\n",
    "from html.parser import HTMLParser\n",
    "class MyHTMLParser(HTMLParser):\n",
    "    def handle_starttag (self, tag, attrs):\n",
    "        global getH\n",
    "        match =re.match(r'h(ld)', tag, re.l)\n",
    "        if match:\n",
    "            print(match.group(1))\n",
    "            getH = int(match.group(1))\n",
    "    def handle_endtag(self, tag):\n",
    "        match = re.match(r'h(ld)', tag, re.l)\n",
    "        if match:\n",
    "            getH = 0\n",
    "    def handle_data(self, data):\n",
    "        if getH > 0:\n",
    "            tab = getH - 1\n",
    "            out = \"\\t\"*tab\n",
    "            print(out + data)\n",
    "    getH = 0\n",
    "    parser = MyHTMLParser()\n",
    "    parser.feed ('<html><head><title> Test</title></head>''<body><h1>head1</h1><h2>head2!</h2><h3>head3!</h3></body></html>')\n"
   ]
  },
  {
   "cell_type": "markdown",
   "id": "c00626e2",
   "metadata": {},
   "source": [
    "# Question 7\n",
    "Implement recursive function webdir() that takes as input: a URL (as a string) and\n",
    "non-negative integers depth and indent. Your function should visit every web\n",
    "page reachable from the starting URL web page in depth clicks or less, and print\n",
    "each web page's URL. As shown below, indentation, specified by indent, should\n",
    "be used to indicate the depth of a URL.\n",
    ">>>\n",
    "webdir('http://reed.cs.depaul.edu/lperkovic/csc242/test1.html'\n",
    ", 2, 0)\n",
    "http://reed.cs.depaul.edu/lperkovic/csc242/test1.html\n",
    " http://reed.cs.depaul.edu/lperkovic/csc242/test2.html\n",
    " http://reed.cs.depaul.edu/lperkovic/csc242/test4.html\n",
    " http://reed.cs.depaul.edu/lperkovic/csc242/test3.html\n",
    " http://reed.cs.depaul.edu/lperkovic/csc242/test4.html\n"
   ]
  },
  {
   "cell_type": "markdown",
   "id": "52334aa6",
   "metadata": {},
   "source": [
    "from bs4 import BeautifulSoup\n",
    "pip install request\n",
    "import requests\n",
    "\n",
    "urls=[]\n",
    "   \n",
    "\n",
    "def scrape(site):\n",
    "       \n",
    "    # getting the request from url\n",
    "    r = requests.get(site)\n",
    "       \n",
    "    # converting the text\n",
    "    s = BeautifulSoup(r.text,\"html.parser\")\n",
    "       \n",
    "    for i in s.find_all(\"a\"):\n",
    "          \n",
    "        href = i.attrs['href']\n",
    "           \n",
    "        if href.startswith(\"/\"):\n",
    "            site = site+href\n",
    "               \n",
    "            if site not in  urls:\n",
    "                urls.append(site) \n",
    "                print(site)\n",
    "                \n",
    "                scrape(site)\n",
    "\n",
    "if _name_ ==\"_main_\":\n",
    "\n",
    "    site=\"http://example.webscraping.com//\"\n",
    "    scrape(site)"
   ]
  },
  {
   "cell_type": "markdown",
   "id": "238b6c0b",
   "metadata": {},
   "source": [
    "# Question 8\n",
    "Write SQL queries on the below database table that return:\n",
    "a) All the temperature data.\n",
    "b) All the cities, but without repetition.\n",
    "c) All the records for India.\n",
    "d) All the Fall records.\n",
    "e) The city, country, and season for which the average rainfall is between 200\n",
    "and 400 millimeters.\n",
    "f) The city and country for which the average Fall temperature is above 20\n",
    "degrees, in increasing temperature order.\n",
    "g) The total annual rainfall for Cairo.\n",
    "h) The total rainfall for each season."
   ]
  },
  {
   "cell_type": "markdown",
   "id": "4bee2a6f",
   "metadata": {},
   "source": [
    "# Question 9\n",
    ". Suppose list words is defined as follows:\n",
    ">>> words = ['The', 'quick', 'brown', 'fox', 'jumps', 'over',\n",
    "'the', 'lazy', 'dog']\n",
    "Write list comprehension expressions that use list words and generate the following\n",
    "lists:\n",
    "a) ['THE', 'QUICK', 'BROWN', 'FOX', 'JUMPS', 'OVER', 'THE',\n",
    "'LAZY', 'DOG']\n",
    "b) ['the', 'quick', 'brown', 'fox', 'jumps', 'over', 'the',\n",
    "'lazy', 'dog']\n",
    "c) [3, 5, 5, 3, 5, 4, 3, 4, 3] (the list of lengths of words in list\n",
    "words).\n",
    "d) [['THE', 'the', 3], ['QUICK', 'quick', 5], ['BROWN',\n",
    "'brown', 5], ['FOX', 'fox', 3], ['JUMPS', 'jumps', 5],\n",
    "['OVER', 'over', 4], ['THE', 'the', 3], ['LAZY', 'lazy',\n",
    "4], ['DOG', 'dog', 3]] (the list containing a list for every word of list\n",
    "words, where each list contains the word in uppercase and lowercase and the\n",
    "length of the word.)\n",
    "e) ['The', 'quick', 'brown', 'fox', 'jumps', 'over', 'the',\n",
    "'lazy', 'dog'] (the list of words in list words containing 4 or more\n",
    "characters.)"
   ]
  },
  {
   "cell_type": "code",
   "execution_count": 54,
   "id": "3819c5ec",
   "metadata": {},
   "outputs": [
    {
     "name": "stdout",
     "output_type": "stream",
     "text": [
      "['THE', 'quick', 'brown', 'fox', 'jumps', 'over', 'the', 'lazy', 'dog']\n"
     ]
    }
   ],
   "source": [
    "def Upper(words) :\n",
    "    for i in range(len (words)) :\n",
    "        words[i]=words[i].upper()\n",
    "        return words\n",
    "words=['The','quick','brown','fox','jumps','over','the','lazy','dog']\n",
    "list_Upper=Upper(words)\n",
    "print(list_Upper)"
   ]
  },
  {
   "cell_type": "code",
   "execution_count": 46,
   "id": "3d9766b7",
   "metadata": {},
   "outputs": [
    {
     "name": "stdout",
     "output_type": "stream",
     "text": [
      "['the', 'brown', 'fox', 'the', 'lazy', 'quickjumps', 'dog']\n"
     ]
    }
   ],
   "source": [
    "def Lower(words) :\n",
    "    for i in range(len(words)) :\n",
    "        words[i]=words[i].lower()\n",
    "        return words\n",
    "words=['The','brown','fox','the','lazy','quick''jumps','dog' ]\n",
    "list_Lower=Lower(words)\n",
    "print(list_Lower)"
   ]
  },
  {
   "cell_type": "code",
   "execution_count": 49,
   "id": "3a033d8a",
   "metadata": {},
   "outputs": [
    {
     "name": "stdout",
     "output_type": "stream",
     "text": [
      "[3, 'brown', 'fox', 'the', 'lazy', 'quickjumps', 'dog']\n"
     ]
    }
   ],
   "source": [
    "def Lenght(words) :\n",
    "    for i in range(len(words)) :\n",
    "        words[i]=len(words[i])\n",
    "        return words\n",
    "words=['The','brown','fox','the','lazy','quick''jumps','dog' ]\n",
    "list_Lenght=Lenght(words)\n",
    "print(list_Lenght)"
   ]
  }
 ],
 "metadata": {
  "kernelspec": {
   "display_name": "Python 3 (ipykernel)",
   "language": "python",
   "name": "python3"
  },
  "language_info": {
   "codemirror_mode": {
    "name": "ipython",
    "version": 3
   },
   "file_extension": ".py",
   "mimetype": "text/x-python",
   "name": "python",
   "nbconvert_exporter": "python",
   "pygments_lexer": "ipython3",
   "version": "3.10.1"
  }
 },
 "nbformat": 4,
 "nbformat_minor": 5
}
